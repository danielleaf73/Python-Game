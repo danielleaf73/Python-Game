{
 "cells": [
  {
   "cell_type": "code",
   "execution_count": 17,
   "metadata": {},
   "outputs": [],
   "source": [
    "def init_game(str_heroes):\n",
    "    \"\"\"\n",
    "    Heroes:\n",
    "    \n",
    "    llynne = \"Lady Lynne\"\n",
    "    \"\"\"\n",
    "    \n",
    "    \n",
    "    heroes = []\n",
    "    for hero in str_heroes:\n",
    "        heroes.append(Hero(hero))"
   ]
  },
  {
   "cell_type": "code",
   "execution_count": 18,
   "metadata": {},
   "outputs": [],
   "source": [
    "class Hero():\n",
    "    def __init__(self, name):\n",
    "        self.name = name\n",
    "        \n",
    "        #Heroes Names:\n",
    "        self.llynne = \"Lady Lynne\"\n",
    "        \n",
    "        #Initialize Heroes:\n",
    "        self.init_heroes(name)\n",
    "        \n",
    "    def init_heroes(self, name):\n",
    "        if name == self.llynne:\n",
    "            hp = 100\n",
    "            ap = 100\n",
    "            df = 0\n",
    "            at = 2\n",
    "        \n",
    "        print(\"Hero\", name, \"was initialized.\")"
   ]
  },
  {
   "cell_type": "code",
   "execution_count": 19,
   "metadata": {},
   "outputs": [
    {
     "name": "stdout",
     "output_type": "stream",
     "text": [
      "Hero Lady Lynne was initialized.\n"
     ]
    }
   ],
   "source": [
    "#Test game\n",
    "\n",
    "init_game([\"Lady Lynne\"])"
   ]
  },
  {
   "cell_type": "code",
   "execution_count": null,
   "metadata": {},
   "outputs": [],
   "source": []
  }
 ],
 "metadata": {
  "kernelspec": {
   "display_name": "Python 3",
   "language": "python",
   "name": "python3"
  },
  "language_info": {
   "codemirror_mode": {
    "name": "ipython",
    "version": 3
   },
   "file_extension": ".py",
   "mimetype": "text/x-python",
   "name": "python",
   "nbconvert_exporter": "python",
   "pygments_lexer": "ipython3",
   "version": "3.7.4"
  }
 },
 "nbformat": 4,
 "nbformat_minor": 2
}
